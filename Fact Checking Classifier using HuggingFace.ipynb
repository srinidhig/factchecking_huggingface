{
 "cells": [
  {
   "cell_type": "code",
   "execution_count": 147,
   "id": "643ef02f",
   "metadata": {},
   "outputs": [],
   "source": [
    "import pandas as pd\n",
    "import numpy as np\n",
    "import matplotlib.pyplot as plt\n",
    "from sklearn.preprocessing import LabelEncoder\n",
    "from transformers import pipeline, BertTokenizer, BertModel, TFBertModel, AutoModel\n",
    "from torch.utils.data import TensorDataset, DataLoader, RandomSampler, SequentialSampler\n",
    "import torch\n",
    "import torch.nn as nn\n",
    "from transformers import AdamW"
   ]
  },
  {
   "cell_type": "code",
   "execution_count": 126,
   "id": "58eb75dc",
   "metadata": {},
   "outputs": [],
   "source": [
    "train = pd.read_csv('train.tsv', sep = '\\t')\n",
    "dev = pd.read_csv('dev.tsv', sep = '\\t')\n",
    "test = pd.read_csv('test.tsv', sep = '\\t')"
   ]
  },
  {
   "cell_type": "code",
   "execution_count": 127,
   "id": "c257312d",
   "metadata": {},
   "outputs": [
    {
     "data": {
      "text/html": [
       "<div>\n",
       "<style scoped>\n",
       "    .dataframe tbody tr th:only-of-type {\n",
       "        vertical-align: middle;\n",
       "    }\n",
       "\n",
       "    .dataframe tbody tr th {\n",
       "        vertical-align: top;\n",
       "    }\n",
       "\n",
       "    .dataframe thead th {\n",
       "        text-align: right;\n",
       "    }\n",
       "</style>\n",
       "<table border=\"1\" class=\"dataframe\">\n",
       "  <thead>\n",
       "    <tr style=\"text-align: right;\">\n",
       "      <th></th>\n",
       "      <th>claim_id</th>\n",
       "      <th>claim</th>\n",
       "      <th>date_published</th>\n",
       "      <th>explanation</th>\n",
       "      <th>fact_checkers</th>\n",
       "      <th>main_text</th>\n",
       "      <th>sources</th>\n",
       "      <th>label</th>\n",
       "      <th>subjects</th>\n",
       "    </tr>\n",
       "  </thead>\n",
       "  <tbody>\n",
       "    <tr>\n",
       "      <th>0</th>\n",
       "      <td>15661</td>\n",
       "      <td>\"The money the Clinton Foundation took from fr...</td>\n",
       "      <td>April 26, 2015</td>\n",
       "      <td>\"Gingrich said the Clinton Foundation \"\"took m...</td>\n",
       "      <td>Katie Sanders</td>\n",
       "      <td>\"Hillary Clinton is in the political crosshair...</td>\n",
       "      <td>https://www.wsj.com/articles/clinton-foundatio...</td>\n",
       "      <td>false</td>\n",
       "      <td>Foreign Policy, PunditFact, Newt Gingrich,</td>\n",
       "    </tr>\n",
       "    <tr>\n",
       "      <th>1</th>\n",
       "      <td>9893</td>\n",
       "      <td>Annual Mammograms May Have More False-Positives</td>\n",
       "      <td>October 18, 2011</td>\n",
       "      <td>This article reports on the results of a study...</td>\n",
       "      <td></td>\n",
       "      <td>While the financial costs of screening mammogr...</td>\n",
       "      <td></td>\n",
       "      <td>mixture</td>\n",
       "      <td>Screening,WebMD,women's health</td>\n",
       "    </tr>\n",
       "    <tr>\n",
       "      <th>2</th>\n",
       "      <td>11358</td>\n",
       "      <td>SBRT Offers Prostate Cancer Patients High Canc...</td>\n",
       "      <td>September 28, 2016</td>\n",
       "      <td>This news release describes five-year outcomes...</td>\n",
       "      <td>Mary Chris Jaklevic,Steven J. Atlas, MD, MPH,K...</td>\n",
       "      <td>The news release quotes lead researcher Robert...</td>\n",
       "      <td>https://www.healthnewsreview.org/wp-content/up...</td>\n",
       "      <td>mixture</td>\n",
       "      <td>Association/Society news release,Cancer</td>\n",
       "    </tr>\n",
       "    <tr>\n",
       "      <th>3</th>\n",
       "      <td>10166</td>\n",
       "      <td>Study: Vaccine for Breast, Ovarian Cancer Has ...</td>\n",
       "      <td>November 8, 2011</td>\n",
       "      <td>While the story does many things well, the ove...</td>\n",
       "      <td></td>\n",
       "      <td>The story does discuss costs, but the framing ...</td>\n",
       "      <td>http://clinicaltrials.gov/ct2/results?term=can...</td>\n",
       "      <td>true</td>\n",
       "      <td>Cancer,WebMD,women's health</td>\n",
       "    </tr>\n",
       "    <tr>\n",
       "      <th>4</th>\n",
       "      <td>11276</td>\n",
       "      <td>Some appendicitis cases may not require ’emerg...</td>\n",
       "      <td>September 20, 2010</td>\n",
       "      <td>We really don’t understand why only a handful ...</td>\n",
       "      <td></td>\n",
       "      <td>\"Although the story didn’t cite the cost of ap...</td>\n",
       "      <td></td>\n",
       "      <td>true</td>\n",
       "      <td></td>\n",
       "    </tr>\n",
       "  </tbody>\n",
       "</table>\n",
       "</div>"
      ],
      "text/plain": [
       "  claim_id                                              claim  \\\n",
       "0    15661  \"The money the Clinton Foundation took from fr...   \n",
       "1     9893    Annual Mammograms May Have More False-Positives   \n",
       "2    11358  SBRT Offers Prostate Cancer Patients High Canc...   \n",
       "3    10166  Study: Vaccine for Breast, Ovarian Cancer Has ...   \n",
       "4    11276  Some appendicitis cases may not require ’emerg...   \n",
       "\n",
       "       date_published                                        explanation  \\\n",
       "0      April 26, 2015  \"Gingrich said the Clinton Foundation \"\"took m...   \n",
       "1    October 18, 2011  This article reports on the results of a study...   \n",
       "2  September 28, 2016  This news release describes five-year outcomes...   \n",
       "3    November 8, 2011  While the story does many things well, the ove...   \n",
       "4  September 20, 2010  We really don’t understand why only a handful ...   \n",
       "\n",
       "                                       fact_checkers  \\\n",
       "0                                      Katie Sanders   \n",
       "1                                                      \n",
       "2  Mary Chris Jaklevic,Steven J. Atlas, MD, MPH,K...   \n",
       "3                                                      \n",
       "4                                                      \n",
       "\n",
       "                                           main_text  \\\n",
       "0  \"Hillary Clinton is in the political crosshair...   \n",
       "1  While the financial costs of screening mammogr...   \n",
       "2  The news release quotes lead researcher Robert...   \n",
       "3  The story does discuss costs, but the framing ...   \n",
       "4  \"Although the story didn’t cite the cost of ap...   \n",
       "\n",
       "                                             sources    label  \\\n",
       "0  https://www.wsj.com/articles/clinton-foundatio...    false   \n",
       "1                                                     mixture   \n",
       "2  https://www.healthnewsreview.org/wp-content/up...  mixture   \n",
       "3  http://clinicaltrials.gov/ct2/results?term=can...     true   \n",
       "4                                                        true   \n",
       "\n",
       "                                      subjects  \n",
       "0  Foreign Policy, PunditFact, Newt Gingrich,   \n",
       "1               Screening,WebMD,women's health  \n",
       "2      Association/Society news release,Cancer  \n",
       "3                  Cancer,WebMD,women's health  \n",
       "4                                               "
      ]
     },
     "execution_count": 127,
     "metadata": {},
     "output_type": "execute_result"
    }
   ],
   "source": [
    "train.head()"
   ]
  },
  {
   "cell_type": "code",
   "execution_count": 128,
   "id": "77be5bb8",
   "metadata": {},
   "outputs": [
    {
     "data": {
      "text/plain": [
       "'Annual Mammograms May Have More False-Positives'"
      ]
     },
     "execution_count": 128,
     "metadata": {},
     "output_type": "execute_result"
    }
   ],
   "source": [
    "train['claim'][1]"
   ]
  },
  {
   "cell_type": "code",
   "execution_count": 129,
   "id": "e5a878b8",
   "metadata": {},
   "outputs": [
    {
     "data": {
      "text/plain": [
       "'This article reports on the results of a study of nearly 170,000 women who had screening mammograms beginning between age 40-59. The study found that over ten years of screening mammograms, over half of the women will experience a false-positive recall for additional mammography. In addition, 7%-9% of the women will have a biopsy for a suspicious lump which is not cancerous. Both of those percentages decrease if the woman is screened every other year rather than every year. Even with biennial mammography, 41% of women will experience a\\xa0recall over 10 years of mammography. The study’s Principal Investigator emphasized that “in most cases, a recall doesn’t mean you have cancer.”\\xa0 She hoped this knowledge would reduce the anxiety of women who are recalled. The story never explained the size of the decrease in the number of false positives between annual (61.3%) and biennial screening (41.6%). Our first two reviewers were a researcher who specializes in health decisions and a breast cancer survivor trained in evidence by the Natiional Breast Cancer Coalition’s Project LEAD. This study is valuable because it helps to quantify and compare the harms of annual and biennial screening, specifically the number of false positives and the number of unnecessary biopsies. Prior to this study, estimates of false positive screening mammography rates varied widely. The critical question is whether you can do less frequent screening, subject women to fewer harms and get similar results in terms of detection of “early stage” cancer. This study’s data seems to suggest that answer is yes.'"
      ]
     },
     "execution_count": 129,
     "metadata": {},
     "output_type": "execute_result"
    }
   ],
   "source": [
    "train['explanation'][1]"
   ]
  },
  {
   "cell_type": "code",
   "execution_count": 130,
   "id": "98dd02cb",
   "metadata": {},
   "outputs": [
    {
     "data": {
      "text/plain": [
       "'While the financial costs of screening mammography & false-positive recalls & biopsies were not included in the study, readers would benefit from being reminded that recall mammography & biopsies increase patient financial costs. This article leads with valuable information for all women over age 40 by stating “Getting screening mammograms every two years instead of annually reduces the chance of a false alarm, a new study shows.”\\xa0 Unfortunately the writer doesn’t quantify or elaborate adequately on that reduction. Instead, the writer later focuses on how women undergoing screening mammography shouldn’t be anxious if they experience a recall because over half of women who have screening mammograms for 10 years will be recalled. Readers would have been better served if the writer had emphasized the significant reduction in both recall mammograms & false-positive biopsies in women who are screened every two years rather than annually. Part of the continuing controversy\\xa0over screening mammography\\xa0focuses on\\xa0annual versus biennial screening. Because this\\xa0study showed a significant reduction in the percentage of those recalled & needing biopsies among women who are screened\\xa0every other year, with no\\xa0statistically significant increase in late-stage diagnosis of breast cancer, the article should\\xa0have emphasized those important findings. The piece states that the researchers noted that “…false positive recalls may cause inconvenience & anxiety and biopsies can cause pain and scarring.” This article fails to include several important facts about the study. 1) This is a prospective cohort study of women screened between 1994-2006. 2) Most of the mammograms were film rather than digital. 3) Few women underwent screening for the entire 10 year period. 4) Screening mammography recall rates are influenced by the skill of the radiologists who read the mammograms. There was no disease mongering. No independent experts were quoted. The story did an adequate job comparing – at a very high level – annual screening versus biennial screening. Screening mammography is widely available throughout the United States. The study did not examine a new procedure. There’s no evidence that the story relied solely on a news release.'"
      ]
     },
     "execution_count": 130,
     "metadata": {},
     "output_type": "execute_result"
    }
   ],
   "source": [
    "train['main_text'][1]"
   ]
  },
  {
   "cell_type": "code",
   "execution_count": 131,
   "id": "4cf26b5a",
   "metadata": {},
   "outputs": [],
   "source": [
    "# Take only the 4 important labels\n",
    "\n",
    "labels = ['true', 'false', 'mixture', 'unproven']\n",
    "train = train[train.label.isin(labels)]\n",
    "dev = dev[dev.label.isin(labels)]\n",
    "test = test[test.label.isin(labels)]"
   ]
  },
  {
   "cell_type": "code",
   "execution_count": 132,
   "id": "bcbd27d5",
   "metadata": {},
   "outputs": [],
   "source": [
    "cols = ['claim_id', 'claim', 'date_published', 'explanation', 'fact_checkers',\n",
    "       'main_text', 'sources', 'label', 'subjects']\n",
    "\n",
    "df = train[cols].append(dev[cols]).append(test[cols])"
   ]
  },
  {
   "cell_type": "code",
   "execution_count": 133,
   "id": "80e02b13",
   "metadata": {},
   "outputs": [
    {
     "data": {
      "text/plain": [
       "claim_id             0\n",
       "claim                0\n",
       "date_published    2398\n",
       "explanation          0\n",
       "fact_checkers        0\n",
       "main_text            0\n",
       "sources              1\n",
       "label                0\n",
       "subjects             0\n",
       "dtype: int64"
      ]
     },
     "execution_count": 133,
     "metadata": {},
     "output_type": "execute_result"
    }
   ],
   "source": [
    "df.isnull().sum()"
   ]
  },
  {
   "cell_type": "code",
   "execution_count": 134,
   "id": "11e8ed79",
   "metadata": {
    "scrolled": false
   },
   "outputs": [
    {
     "data": {
      "image/png": "[encoded data removed]",
      "text/plain": [
       "<Figure size 432x288 with 1 Axes>"
      ]
     },
     "metadata": {
      "needs_background": "light"
     },
     "output_type": "display_data"
    },
    {
     "data": {
      "image/png": "[encoded data removed]",
      "text/plain": [
       "<Figure size 432x288 with 1 Axes>"
      ]
     },
     "metadata": {
      "needs_background": "light"
     },
     "output_type": "display_data"
    },
    {
     "data": {
      "image/png": "[encoded data removed]",
      "text/plain": [
       "<Figure size 432x288 with 1 Axes>"
      ]
     },
     "metadata": {
      "needs_background": "light"
     },
     "output_type": "display_data"
    }
   ],
   "source": [
    "# Get lengths of claims, explanation, and main text to see how much to pad them\n",
    "seq_len_maintext = [len(i.split()) for i in df.main_text]\n",
    "seq_len_claim = [len(i.split()) for i in df.claim]\n",
    "seq_len_explanation = [len(i.split()) for i in df.explanation]\n",
    "\n",
    "pd.Series(seq_len_maintext).hist(bins = 30)\n",
    "plt.title('Distribution of main_text length')\n",
    "plt.show()\n",
    "pd.Series(seq_len_explanation).hist(bins = 30)\n",
    "plt.title('Distribution of explanation length')\n",
    "plt.show()\n",
    "pd.Series(seq_len_claim).hist(bins = 30)\n",
    "plt.title('Distribution of claim length')\n",
    "plt.show()"
   ]
  },
  {
   "cell_type": "code",
   "execution_count": 135,
   "id": "b9d11b2f",
   "metadata": {},
   "outputs": [],
   "source": [
    "# Create a new column, appending claim, explanation and main text\n",
    "\n",
    "train['input_text'] = train.claim + ' ' + train.explanation + ' ' + train.main_text\n",
    "dev['input_text'] = dev.claim + ' ' + dev.explanation + ' ' + dev.main_text\n",
    "test['input_text'] = test.claim + ' ' + test.explanation + ' ' + test.main_text\n",
    "df['input_text'] = df.claim + ' ' + df.explanation + ' ' + df.main_text"
   ]
  },
  {
   "cell_type": "code",
   "execution_count": 136,
   "id": "134a4aec",
   "metadata": {},
   "outputs": [
    {
     "data": {
      "image/png": "[encoded data removed]",
      "text/plain": [
       "<Figure size 432x288 with 1 Axes>"
      ]
     },
     "metadata": {
      "needs_background": "light"
     },
     "output_type": "display_data"
    }
   ],
   "source": [
    "seq_len_input_text = [len(i.split()) for i in df.input_text]\n",
    "\n",
    "pd.Series(seq_len_input_text).hist(bins = 30)\n",
    "plt.title('Distribution of total input text length')\n",
    "plt.show()"
   ]
  },
  {
   "cell_type": "code",
   "execution_count": 137,
   "id": "080f6ffc",
   "metadata": {},
   "outputs": [],
   "source": [
    "# We can fix a max length of 512 and if less than that, add padding. Not setting to higher due to model constraints and\n",
    "# possible errors in indexing"
   ]
  },
  {
   "cell_type": "code",
   "execution_count": 138,
   "id": "ccd7e56e",
   "metadata": {
    "scrolled": true
   },
   "outputs": [
    {
     "name": "stderr",
     "output_type": "stream",
     "text": [
      "Some weights of the model checkpoint at bert-base-cased were not used when initializing BertForMaskedLM: ['cls.seq_relationship.bias', 'cls.seq_relationship.weight']\n",
      "- This IS expected if you are initializing BertForMaskedLM from the checkpoint of a model trained on another task or with another architecture (e.g. initializing a BertForSequenceClassification model from a BertForPreTraining model).\n",
      "- This IS NOT expected if you are initializing BertForMaskedLM from the checkpoint of a model that you expect to be exactly identical (initializing a BertForSequenceClassification model from a BertForSequenceClassification model).\n"
     ]
    },
    {
     "data": {
      "text/plain": [
       "[{'score': 0.09019182622432709,\n",
       "  'sequence': \"Hello I'm a fashion model.\",\n",
       "  'token': 4633,\n",
       "  'token_str': 'fashion'},\n",
       " {'score': 0.06350025534629822,\n",
       "  'sequence': \"Hello I'm a new model.\",\n",
       "  'token': 1207,\n",
       "  'token_str': 'new'},\n",
       " {'score': 0.06228208169341087,\n",
       "  'sequence': \"Hello I'm a male model.\",\n",
       "  'token': 2581,\n",
       "  'token_str': 'male'},\n",
       " {'score': 0.044172950088977814,\n",
       "  'sequence': \"Hello I'm a professional model.\",\n",
       "  'token': 1848,\n",
       "  'token_str': 'professional'},\n",
       " {'score': 0.03326145559549332,\n",
       "  'sequence': \"Hello I'm a super model.\",\n",
       "  'token': 7688,\n",
       "  'token_str': 'super'}]"
      ]
     },
     "execution_count": 138,
     "metadata": {},
     "output_type": "execute_result"
    }
   ],
   "source": [
    "unmasker = pipeline('fill-mask', model='bert-base-cased')\n",
    "unmasker(\"Hello I'm a [MASK] model.\")"
   ]
  },
  {
   "cell_type": "code",
   "execution_count": 139,
   "id": "96d2e32e",
   "metadata": {
    "scrolled": true
   },
   "outputs": [
    {
     "name": "stderr",
     "output_type": "stream",
     "text": [
      "Some weights of the model checkpoint at bert-base-cased were not used when initializing BertModel: ['cls.predictions.bias', 'cls.seq_relationship.weight', 'cls.predictions.transform.dense.weight', 'cls.predictions.transform.LayerNorm.bias', 'cls.predictions.decoder.weight', 'cls.seq_relationship.bias', 'cls.predictions.transform.LayerNorm.weight', 'cls.predictions.transform.dense.bias']\n",
      "- This IS expected if you are initializing BertModel from the checkpoint of a model trained on another task or with another architecture (e.g. initializing a BertForSequenceClassification model from a BertForPreTraining model).\n",
      "- This IS NOT expected if you are initializing BertModel from the checkpoint of a model that you expect to be exactly identical (initializing a BertForSequenceClassification model from a BertForSequenceClassification model).\n"
     ]
    }
   ],
   "source": [
    "tokenizer = BertTokenizer.from_pretrained('bert-base-cased')\n",
    "model = AutoModel.from_pretrained(\"bert-base-cased\")"
   ]
  },
  {
   "cell_type": "code",
   "execution_count": 140,
   "id": "d91bde78",
   "metadata": {},
   "outputs": [
    {
     "name": "stdout",
     "output_type": "stream",
     "text": [
      "Done\n",
      "Done\n"
     ]
    }
   ],
   "source": [
    "# tokenize and encode sequences in the training set\n",
    "tokens_train = tokenizer.batch_encode_plus(\n",
    "    train.input_text.tolist(),\n",
    "    max_length = 512,\n",
    "    padding = 'max_length',\n",
    "    truncation=True)\n",
    "print('Done')\n",
    "\n",
    "# tokenize and encode sequences in the dev set\n",
    "tokens_dev = tokenizer.batch_encode_plus(\n",
    "    dev.input_text.tolist(),\n",
    "    max_length = 512,\n",
    "    padding = 'max_length',\n",
    "    truncation=True)\n",
    "print('Done')\n",
    "\n",
    "# tokenize and encode sequences in the test set\n",
    "tokens_test = tokenizer.batch_encode_plus(\n",
    "    test.input_text.tolist(),\n",
    "    max_length = 512,\n",
    "    padding = 'max_length',\n",
    "    truncation=True)"
   ]
  },
  {
   "cell_type": "code",
   "execution_count": 141,
   "id": "0d4c480b",
   "metadata": {},
   "outputs": [],
   "source": [
    "# One-hot encode labels\n",
    "\n",
    "le = LabelEncoder()\n",
    "train_labels = le.fit_transform(train.label.tolist())\n",
    "dev_labels = le.transform(dev.label.tolist())\n",
    "test_labels = le.transform(test.label.tolist())"
   ]
  },
  {
   "cell_type": "code",
   "execution_count": 142,
   "id": "ae704a6a",
   "metadata": {},
   "outputs": [],
   "source": [
    "## convert lists to torch tensors\n",
    "\n",
    "train_seq = torch.tensor(tokens_train['input_ids'])\n",
    "train_mask = torch.tensor(tokens_train['attention_mask'])\n",
    "train_y = nn.functional.one_hot(torch.Tensor(train_labels).to(torch.int64), num_classes = 4)\n",
    "\n",
    "dev_seq = torch.tensor(tokens_dev['input_ids'])\n",
    "dev_mask = torch.tensor(tokens_dev['attention_mask'])\n",
    "dev_y = nn.functional.one_hot(torch.Tensor(dev_labels).to(torch.int64), num_classes = 4)\n",
    "\n",
    "test_seq = torch.tensor(tokens_test['input_ids'])\n",
    "test_mask = torch.tensor(tokens_test['attention_mask'])\n",
    "test_y = nn.functional.one_hot(torch.Tensor(test_labels).to(torch.int64), num_classes = 4)"
   ]
  },
  {
   "cell_type": "code",
   "execution_count": 143,
   "id": "821ef905",
   "metadata": {},
   "outputs": [],
   "source": [
    "# Split train and dev data into batches\n",
    "\n",
    "batch_size = 32\n",
    "\n",
    "train_data = TensorDataset(train_seq, train_mask, train_y)\n",
    "train_sampler = RandomSampler(train_data)\n",
    "train_dataloader = DataLoader(train_data, sampler=train_sampler, batch_size = batch_size)\n",
    "\n",
    "dev_data = TensorDataset(dev_seq, dev_mask, dev_y)\n",
    "dev_sampler = SequentialSampler(dev_data)\n",
    "dev_dataloader = DataLoader(dev_data, sampler = dev_sampler, batch_size = batch_size)"
   ]
  },
  {
   "cell_type": "code",
   "execution_count": 144,
   "id": "5cb563f4",
   "metadata": {},
   "outputs": [],
   "source": [
    "# Fix bert model architecture - no fine-tuning\n",
    "for param in model.parameters():\n",
    "    param.requires_grad = False"
   ]
  },
  {
   "cell_type": "code",
   "execution_count": 145,
   "id": "0a43c991",
   "metadata": {},
   "outputs": [],
   "source": [
    "class BERT_Arch(nn.Module):\n",
    "    def __init__(self, bert):\n",
    "        super(BERT_Arch, self).__init__()\n",
    "        self.bert = bert\n",
    "        # Add dropout\n",
    "        self.dropout = nn.Dropout(0.1)\n",
    "        # ReLU activation\n",
    "        self.relu =  nn.ReLU()\n",
    "        \n",
    "        # Fully connected layers for classification\n",
    "        self.fc1 = nn.Linear(768,512)\n",
    "        # Final layer\n",
    "        self.fc2 = nn.Linear(512,4)\n",
    "        \n",
    "        # Softmax for multiclass likelihoods\n",
    "        self.softmax = nn.LogSoftmax(dim=1)\n",
    "\n",
    "    #define the forward pass\n",
    "    def forward(self, sent_id, mask):\n",
    "\n",
    "        #pass the inputs to the model  \n",
    "        _, cls_hs = self.bert(sent_id, attention_mask=mask)\n",
    "        x = self.fc1(cls_hs)\n",
    "        x = self.relu(x)\n",
    "        x = self.dropout(x)\n",
    "        # output layer\n",
    "        x = self.fc2(x)\n",
    "        # apply softmax activation\n",
    "        x = self.softmax(x)\n",
    "        return x"
   ]
  },
  {
   "cell_type": "code",
   "execution_count": 146,
   "id": "bd4f4da6",
   "metadata": {},
   "outputs": [],
   "source": [
    "# pass the pre-trained BERT to our define architecture\n",
    "transfer_model = BERT_Arch(model)"
   ]
  },
  {
   "cell_type": "code",
   "execution_count": null,
   "id": "2bf10c32",
   "metadata": {},
   "outputs": [],
   "source": [
    "# Define optimizer\n"
   ]
  }
 ],
 "metadata": {
  "kernelspec": {
   "display_name": "Python 3",
   "language": "python",
   "name": "python3"
  },
  "language_info": {
   "codemirror_mode": {
    "name": "ipython",
    "version": 3
   },
   "file_extension": ".py",
   "mimetype": "text/x-python",
   "name": "python",
   "nbconvert_exporter": "python",
   "pygments_lexer": "ipython3",
   "version": "3.7.10"
  }
 },
 "nbformat": 4,
 "nbformat_minor": 5
}
